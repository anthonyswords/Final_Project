{
 "cells": [
  {
   "cell_type": "markdown",
   "metadata": {},
   "source": [
    "# Predicting injuries when accident occurs"
   ]
  },
  {
   "cell_type": "code",
   "execution_count": 1,
   "metadata": {},
   "outputs": [],
   "source": [
    "import pandas as pd\n",
    "\n",
    "# read data\n",
    "accidents = pd.read_csv('../data/accidents_bcn_ml.csv')"
   ]
  },
  {
   "cell_type": "code",
   "execution_count": 2,
   "metadata": {},
   "outputs": [
    {
     "data": {
      "text/plain": [
       "Codi_districte                 float64\n",
       "Codi_barri                     float64\n",
       "Descripcio_causa_vianant        object\n",
       "Numero_victimes                float64\n",
       "Numero_vehicles_implicats      float64\n",
       "Descripcio_causa_mediata        object\n",
       "Descripcio_victimitzacio        object\n",
       "Descripcio_tipus_persona        object\n",
       "Desc_Tipus_vehicle_implicat     object\n",
       "Descripcio_sexe                 object\n",
       "Edat                             int64\n",
       "dtype: object"
      ]
     },
     "execution_count": 2,
     "metadata": {},
     "output_type": "execute_result"
    }
   ],
   "source": [
    "accidents.dtypes"
   ]
  },
  {
   "cell_type": "code",
   "execution_count": 3,
   "metadata": {},
   "outputs": [],
   "source": [
    "accidents.drop(columns=['Codi_districte','Codi_barri'], inplace=True)"
   ]
  },
  {
   "cell_type": "code",
   "execution_count": 4,
   "metadata": {},
   "outputs": [],
   "source": [
    "accidents.Descripcio_victimitzacio.replace({'Ferit greu: hospitalització superior a 24h':5,\n",
    "       'Ferit lleu: Hospitalització fins a 24h':1,\n",
    "       \"Ferit lleu: Amb assistència sanitària en lloc d'accident\":2,\n",
    "       'Ferit lleu: Rebutja assistència sanitària':3,\n",
    "       'Mort (dins 24h posteriors accident)':6, 'Ferit lleu':4, 'Ferit greu':5,\n",
    "       'Mort':6}, inplace=True)"
   ]
  },
  {
   "cell_type": "code",
   "execution_count": 5,
   "metadata": {},
   "outputs": [],
   "source": [
    "# define X and y (features and target)\n",
    "X = accidents.drop(columns=\"Descripcio_victimitzacio\")\n",
    "y = accidents[\"Descripcio_victimitzacio\"]"
   ]
  },
  {
   "cell_type": "code",
   "execution_count": 6,
   "metadata": {},
   "outputs": [
    {
     "data": {
      "text/plain": [
       "1    20802\n",
       "4    14523\n",
       "2     9355\n",
       "3     1398\n",
       "5      857\n",
       "6       82\n",
       "Name: Descripcio_victimitzacio, dtype: int64"
      ]
     },
     "execution_count": 6,
     "metadata": {},
     "output_type": "execute_result"
    }
   ],
   "source": [
    "y.value_counts()"
   ]
  },
  {
   "cell_type": "markdown",
   "metadata": {},
   "source": [
    "### Data Splitting"
   ]
  },
  {
   "cell_type": "code",
   "execution_count": 7,
   "metadata": {},
   "outputs": [],
   "source": [
    "from sklearn.model_selection import train_test_split\n",
    "\n",
    "X_train, X_test, y_train, y_test = train_test_split(X, y, test_size=0.1, random_state=42, stratify=y)\n",
    "\n",
    "# training datasets to DataFrame again to manipulate them\n",
    "X_train = pd.DataFrame(X_train, columns= X.columns)\n",
    "X_test = pd.DataFrame(X_test, columns= X.columns)"
   ]
  },
  {
   "cell_type": "markdown",
   "metadata": {},
   "source": [
    "### Pre-processing numerical features\n"
   ]
  },
  {
   "cell_type": "code",
   "execution_count": 8,
   "metadata": {},
   "outputs": [],
   "source": [
    "from sklearn.preprocessing import StandardScaler\n",
    "#Define columns to use\n",
    "num_cols = ['Numero_victimes','Numero_vehicles_implicats','Edat']\n",
    "# Initialize StandardScaler\n",
    "std_scaler = StandardScaler()"
   ]
  },
  {
   "cell_type": "markdown",
   "metadata": {},
   "source": [
    "### Pre-processing categorical features"
   ]
  },
  {
   "cell_type": "code",
   "execution_count": 9,
   "metadata": {},
   "outputs": [],
   "source": [
    "from sklearn.preprocessing import OneHotEncoder\n",
    "from sklearn.preprocessing import OrdinalEncoder\n",
    "from sklearn.compose import ColumnTransformer\n",
    "\n",
    "# Define columns to use\n",
    "ordinal_cols = ['Descripcio_causa_mediata','Descripcio_causa_vianant']\n",
    "oneHot_cols = [\"Descripcio_sexe\",'Descripcio_tipus_persona','Desc_Tipus_vehicle_implicat']\n",
    "categ_cols = ordinal_cols + oneHot_cols\n",
    "X_cat = X[categ_cols]\n",
    "\n",
    "# Define categories order for ordinal columns\n",
    "Descripcio_causa_mediata_cats = ['No hi ha causa mediata','Estat de la senyalització','Factors meteorològics', 'Objectes o animals a la calçada','Calçada en mal estat','Calçada en mal estat','Excés de velocitat o inadequada','Drogues o medicaments','Alcoholèmia']\n",
    "Descripcio_causa_vianant_cats = [\"No és causa del  vianant\",'Altres','Desobeir altres senyals', \"Transitar a peu per la calçada\",\"Creuar per fora pas de vianants\", \"Desobeir el senyal del semàfor\"]\n",
    "ord_cats = [Descripcio_causa_mediata_cats, Descripcio_causa_vianant_cats]\n",
    "\n",
    "\n",
    "# Initialize transformers\n",
    "ord_enc = OrdinalEncoder(categories=ord_cats)\n",
    "oneH = OneHotEncoder(handle_unknown=\"ignore\")\n",
    "\n",
    "# Assemble the \"Column Transformer\"\n",
    "categ_encode_pipeline = ColumnTransformer([\n",
    "    (\"ord_encoder_branch\", ord_enc, ordinal_cols),\n",
    "    (\"oneH_encoder_branch\", oneH, oneHot_cols)\n",
    "])"
   ]
  },
  {
   "cell_type": "code",
   "execution_count": 10,
   "metadata": {},
   "outputs": [],
   "source": [
    "# Fit & Transform to training set\n",
    "categories_encoded = categ_encode_pipeline.fit_transform(X_cat)\n",
    "col_names_transformed = ordinal_cols + list(categ_encode_pipeline.named_transformers_[\"oneH_encoder_branch\"].get_feature_names())"
   ]
  },
  {
   "cell_type": "code",
   "execution_count": 11,
   "metadata": {},
   "outputs": [
    {
     "data": {
      "text/html": [
       "<div>\n",
       "<style scoped>\n",
       "    .dataframe tbody tr th:only-of-type {\n",
       "        vertical-align: middle;\n",
       "    }\n",
       "\n",
       "    .dataframe tbody tr th {\n",
       "        vertical-align: top;\n",
       "    }\n",
       "\n",
       "    .dataframe thead th {\n",
       "        text-align: right;\n",
       "    }\n",
       "</style>\n",
       "<table border=\"1\" class=\"dataframe\">\n",
       "  <thead>\n",
       "    <tr style=\"text-align: right;\">\n",
       "      <th></th>\n",
       "      <th>Descripcio_causa_mediata</th>\n",
       "      <th>Descripcio_causa_vianant</th>\n",
       "      <th>x0_Desconegut</th>\n",
       "      <th>x0_Dona</th>\n",
       "      <th>x0_Home</th>\n",
       "      <th>x1_Conductor</th>\n",
       "      <th>x1_Passatger</th>\n",
       "      <th>x1_Vianant</th>\n",
       "      <th>x2_Altres vehicles amb motor</th>\n",
       "      <th>x2_Altres vehicles sense motor</th>\n",
       "      <th>...</th>\n",
       "      <th>x2_Todo terreno</th>\n",
       "      <th>x2_Tot terreny</th>\n",
       "      <th>x2_Tractocamión</th>\n",
       "      <th>x2_Tractor camió</th>\n",
       "      <th>x2_Tranvía o tren</th>\n",
       "      <th>x2_Tren o tramvia</th>\n",
       "      <th>x2_Turisme</th>\n",
       "      <th>x2_Turismo</th>\n",
       "      <th>x2_Veh. mobilitat personal amb motor</th>\n",
       "      <th>x2_Veh. mobilitat personal sense motor</th>\n",
       "    </tr>\n",
       "  </thead>\n",
       "  <tbody>\n",
       "    <tr>\n",
       "      <th>0</th>\n",
       "      <td>0.0</td>\n",
       "      <td>0.0</td>\n",
       "      <td>0.0</td>\n",
       "      <td>0.0</td>\n",
       "      <td>1.0</td>\n",
       "      <td>0.0</td>\n",
       "      <td>0.0</td>\n",
       "      <td>1.0</td>\n",
       "      <td>0.0</td>\n",
       "      <td>0.0</td>\n",
       "      <td>...</td>\n",
       "      <td>0.0</td>\n",
       "      <td>0.0</td>\n",
       "      <td>0.0</td>\n",
       "      <td>0.0</td>\n",
       "      <td>0.0</td>\n",
       "      <td>0.0</td>\n",
       "      <td>1.0</td>\n",
       "      <td>0.0</td>\n",
       "      <td>0.0</td>\n",
       "      <td>0.0</td>\n",
       "    </tr>\n",
       "    <tr>\n",
       "      <th>1</th>\n",
       "      <td>0.0</td>\n",
       "      <td>0.0</td>\n",
       "      <td>0.0</td>\n",
       "      <td>0.0</td>\n",
       "      <td>1.0</td>\n",
       "      <td>1.0</td>\n",
       "      <td>0.0</td>\n",
       "      <td>0.0</td>\n",
       "      <td>0.0</td>\n",
       "      <td>0.0</td>\n",
       "      <td>...</td>\n",
       "      <td>0.0</td>\n",
       "      <td>0.0</td>\n",
       "      <td>0.0</td>\n",
       "      <td>0.0</td>\n",
       "      <td>0.0</td>\n",
       "      <td>0.0</td>\n",
       "      <td>0.0</td>\n",
       "      <td>0.0</td>\n",
       "      <td>0.0</td>\n",
       "      <td>0.0</td>\n",
       "    </tr>\n",
       "    <tr>\n",
       "      <th>2</th>\n",
       "      <td>0.0</td>\n",
       "      <td>4.0</td>\n",
       "      <td>0.0</td>\n",
       "      <td>0.0</td>\n",
       "      <td>1.0</td>\n",
       "      <td>0.0</td>\n",
       "      <td>0.0</td>\n",
       "      <td>1.0</td>\n",
       "      <td>0.0</td>\n",
       "      <td>0.0</td>\n",
       "      <td>...</td>\n",
       "      <td>0.0</td>\n",
       "      <td>0.0</td>\n",
       "      <td>0.0</td>\n",
       "      <td>0.0</td>\n",
       "      <td>0.0</td>\n",
       "      <td>0.0</td>\n",
       "      <td>0.0</td>\n",
       "      <td>0.0</td>\n",
       "      <td>0.0</td>\n",
       "      <td>0.0</td>\n",
       "    </tr>\n",
       "    <tr>\n",
       "      <th>3</th>\n",
       "      <td>0.0</td>\n",
       "      <td>0.0</td>\n",
       "      <td>0.0</td>\n",
       "      <td>0.0</td>\n",
       "      <td>1.0</td>\n",
       "      <td>1.0</td>\n",
       "      <td>0.0</td>\n",
       "      <td>0.0</td>\n",
       "      <td>0.0</td>\n",
       "      <td>0.0</td>\n",
       "      <td>...</td>\n",
       "      <td>0.0</td>\n",
       "      <td>0.0</td>\n",
       "      <td>0.0</td>\n",
       "      <td>0.0</td>\n",
       "      <td>0.0</td>\n",
       "      <td>0.0</td>\n",
       "      <td>0.0</td>\n",
       "      <td>0.0</td>\n",
       "      <td>0.0</td>\n",
       "      <td>0.0</td>\n",
       "    </tr>\n",
       "    <tr>\n",
       "      <th>4</th>\n",
       "      <td>0.0</td>\n",
       "      <td>0.0</td>\n",
       "      <td>0.0</td>\n",
       "      <td>0.0</td>\n",
       "      <td>1.0</td>\n",
       "      <td>1.0</td>\n",
       "      <td>0.0</td>\n",
       "      <td>0.0</td>\n",
       "      <td>0.0</td>\n",
       "      <td>0.0</td>\n",
       "      <td>...</td>\n",
       "      <td>0.0</td>\n",
       "      <td>0.0</td>\n",
       "      <td>0.0</td>\n",
       "      <td>0.0</td>\n",
       "      <td>0.0</td>\n",
       "      <td>0.0</td>\n",
       "      <td>0.0</td>\n",
       "      <td>0.0</td>\n",
       "      <td>0.0</td>\n",
       "      <td>0.0</td>\n",
       "    </tr>\n",
       "    <tr>\n",
       "      <th>...</th>\n",
       "      <td>...</td>\n",
       "      <td>...</td>\n",
       "      <td>...</td>\n",
       "      <td>...</td>\n",
       "      <td>...</td>\n",
       "      <td>...</td>\n",
       "      <td>...</td>\n",
       "      <td>...</td>\n",
       "      <td>...</td>\n",
       "      <td>...</td>\n",
       "      <td>...</td>\n",
       "      <td>...</td>\n",
       "      <td>...</td>\n",
       "      <td>...</td>\n",
       "      <td>...</td>\n",
       "      <td>...</td>\n",
       "      <td>...</td>\n",
       "      <td>...</td>\n",
       "      <td>...</td>\n",
       "      <td>...</td>\n",
       "      <td>...</td>\n",
       "    </tr>\n",
       "    <tr>\n",
       "      <th>47012</th>\n",
       "      <td>0.0</td>\n",
       "      <td>0.0</td>\n",
       "      <td>0.0</td>\n",
       "      <td>0.0</td>\n",
       "      <td>1.0</td>\n",
       "      <td>1.0</td>\n",
       "      <td>0.0</td>\n",
       "      <td>0.0</td>\n",
       "      <td>0.0</td>\n",
       "      <td>0.0</td>\n",
       "      <td>...</td>\n",
       "      <td>0.0</td>\n",
       "      <td>0.0</td>\n",
       "      <td>0.0</td>\n",
       "      <td>0.0</td>\n",
       "      <td>0.0</td>\n",
       "      <td>0.0</td>\n",
       "      <td>0.0</td>\n",
       "      <td>0.0</td>\n",
       "      <td>0.0</td>\n",
       "      <td>0.0</td>\n",
       "    </tr>\n",
       "    <tr>\n",
       "      <th>47013</th>\n",
       "      <td>0.0</td>\n",
       "      <td>0.0</td>\n",
       "      <td>0.0</td>\n",
       "      <td>1.0</td>\n",
       "      <td>0.0</td>\n",
       "      <td>1.0</td>\n",
       "      <td>0.0</td>\n",
       "      <td>0.0</td>\n",
       "      <td>0.0</td>\n",
       "      <td>0.0</td>\n",
       "      <td>...</td>\n",
       "      <td>0.0</td>\n",
       "      <td>0.0</td>\n",
       "      <td>0.0</td>\n",
       "      <td>0.0</td>\n",
       "      <td>0.0</td>\n",
       "      <td>0.0</td>\n",
       "      <td>0.0</td>\n",
       "      <td>1.0</td>\n",
       "      <td>0.0</td>\n",
       "      <td>0.0</td>\n",
       "    </tr>\n",
       "    <tr>\n",
       "      <th>47014</th>\n",
       "      <td>0.0</td>\n",
       "      <td>0.0</td>\n",
       "      <td>0.0</td>\n",
       "      <td>1.0</td>\n",
       "      <td>0.0</td>\n",
       "      <td>0.0</td>\n",
       "      <td>1.0</td>\n",
       "      <td>0.0</td>\n",
       "      <td>0.0</td>\n",
       "      <td>0.0</td>\n",
       "      <td>...</td>\n",
       "      <td>0.0</td>\n",
       "      <td>0.0</td>\n",
       "      <td>0.0</td>\n",
       "      <td>0.0</td>\n",
       "      <td>0.0</td>\n",
       "      <td>0.0</td>\n",
       "      <td>0.0</td>\n",
       "      <td>1.0</td>\n",
       "      <td>0.0</td>\n",
       "      <td>0.0</td>\n",
       "    </tr>\n",
       "    <tr>\n",
       "      <th>47015</th>\n",
       "      <td>0.0</td>\n",
       "      <td>0.0</td>\n",
       "      <td>0.0</td>\n",
       "      <td>0.0</td>\n",
       "      <td>1.0</td>\n",
       "      <td>1.0</td>\n",
       "      <td>0.0</td>\n",
       "      <td>0.0</td>\n",
       "      <td>0.0</td>\n",
       "      <td>0.0</td>\n",
       "      <td>...</td>\n",
       "      <td>0.0</td>\n",
       "      <td>0.0</td>\n",
       "      <td>0.0</td>\n",
       "      <td>0.0</td>\n",
       "      <td>0.0</td>\n",
       "      <td>0.0</td>\n",
       "      <td>0.0</td>\n",
       "      <td>0.0</td>\n",
       "      <td>0.0</td>\n",
       "      <td>0.0</td>\n",
       "    </tr>\n",
       "    <tr>\n",
       "      <th>47016</th>\n",
       "      <td>0.0</td>\n",
       "      <td>0.0</td>\n",
       "      <td>0.0</td>\n",
       "      <td>0.0</td>\n",
       "      <td>1.0</td>\n",
       "      <td>1.0</td>\n",
       "      <td>0.0</td>\n",
       "      <td>0.0</td>\n",
       "      <td>0.0</td>\n",
       "      <td>0.0</td>\n",
       "      <td>...</td>\n",
       "      <td>0.0</td>\n",
       "      <td>0.0</td>\n",
       "      <td>0.0</td>\n",
       "      <td>0.0</td>\n",
       "      <td>0.0</td>\n",
       "      <td>0.0</td>\n",
       "      <td>0.0</td>\n",
       "      <td>0.0</td>\n",
       "      <td>0.0</td>\n",
       "      <td>0.0</td>\n",
       "    </tr>\n",
       "  </tbody>\n",
       "</table>\n",
       "<p>47017 rows × 45 columns</p>\n",
       "</div>"
      ],
      "text/plain": [
       "       Descripcio_causa_mediata  Descripcio_causa_vianant  x0_Desconegut  \\\n",
       "0                           0.0                       0.0            0.0   \n",
       "1                           0.0                       0.0            0.0   \n",
       "2                           0.0                       4.0            0.0   \n",
       "3                           0.0                       0.0            0.0   \n",
       "4                           0.0                       0.0            0.0   \n",
       "...                         ...                       ...            ...   \n",
       "47012                       0.0                       0.0            0.0   \n",
       "47013                       0.0                       0.0            0.0   \n",
       "47014                       0.0                       0.0            0.0   \n",
       "47015                       0.0                       0.0            0.0   \n",
       "47016                       0.0                       0.0            0.0   \n",
       "\n",
       "       x0_Dona  x0_Home  x1_Conductor  x1_Passatger  x1_Vianant  \\\n",
       "0          0.0      1.0           0.0           0.0         1.0   \n",
       "1          0.0      1.0           1.0           0.0         0.0   \n",
       "2          0.0      1.0           0.0           0.0         1.0   \n",
       "3          0.0      1.0           1.0           0.0         0.0   \n",
       "4          0.0      1.0           1.0           0.0         0.0   \n",
       "...        ...      ...           ...           ...         ...   \n",
       "47012      0.0      1.0           1.0           0.0         0.0   \n",
       "47013      1.0      0.0           1.0           0.0         0.0   \n",
       "47014      1.0      0.0           0.0           1.0         0.0   \n",
       "47015      0.0      1.0           1.0           0.0         0.0   \n",
       "47016      0.0      1.0           1.0           0.0         0.0   \n",
       "\n",
       "       x2_Altres vehicles amb motor  x2_Altres vehicles sense motor  ...  \\\n",
       "0                               0.0                             0.0  ...   \n",
       "1                               0.0                             0.0  ...   \n",
       "2                               0.0                             0.0  ...   \n",
       "3                               0.0                             0.0  ...   \n",
       "4                               0.0                             0.0  ...   \n",
       "...                             ...                             ...  ...   \n",
       "47012                           0.0                             0.0  ...   \n",
       "47013                           0.0                             0.0  ...   \n",
       "47014                           0.0                             0.0  ...   \n",
       "47015                           0.0                             0.0  ...   \n",
       "47016                           0.0                             0.0  ...   \n",
       "\n",
       "       x2_Todo terreno  x2_Tot terreny  x2_Tractocamión  x2_Tractor camió  \\\n",
       "0                  0.0             0.0              0.0               0.0   \n",
       "1                  0.0             0.0              0.0               0.0   \n",
       "2                  0.0             0.0              0.0               0.0   \n",
       "3                  0.0             0.0              0.0               0.0   \n",
       "4                  0.0             0.0              0.0               0.0   \n",
       "...                ...             ...              ...               ...   \n",
       "47012              0.0             0.0              0.0               0.0   \n",
       "47013              0.0             0.0              0.0               0.0   \n",
       "47014              0.0             0.0              0.0               0.0   \n",
       "47015              0.0             0.0              0.0               0.0   \n",
       "47016              0.0             0.0              0.0               0.0   \n",
       "\n",
       "       x2_Tranvía o tren  x2_Tren o tramvia  x2_Turisme  x2_Turismo  \\\n",
       "0                    0.0                0.0         1.0         0.0   \n",
       "1                    0.0                0.0         0.0         0.0   \n",
       "2                    0.0                0.0         0.0         0.0   \n",
       "3                    0.0                0.0         0.0         0.0   \n",
       "4                    0.0                0.0         0.0         0.0   \n",
       "...                  ...                ...         ...         ...   \n",
       "47012                0.0                0.0         0.0         0.0   \n",
       "47013                0.0                0.0         0.0         1.0   \n",
       "47014                0.0                0.0         0.0         1.0   \n",
       "47015                0.0                0.0         0.0         0.0   \n",
       "47016                0.0                0.0         0.0         0.0   \n",
       "\n",
       "       x2_Veh. mobilitat personal amb motor  \\\n",
       "0                                       0.0   \n",
       "1                                       0.0   \n",
       "2                                       0.0   \n",
       "3                                       0.0   \n",
       "4                                       0.0   \n",
       "...                                     ...   \n",
       "47012                                   0.0   \n",
       "47013                                   0.0   \n",
       "47014                                   0.0   \n",
       "47015                                   0.0   \n",
       "47016                                   0.0   \n",
       "\n",
       "       x2_Veh. mobilitat personal sense motor  \n",
       "0                                         0.0  \n",
       "1                                         0.0  \n",
       "2                                         0.0  \n",
       "3                                         0.0  \n",
       "4                                         0.0  \n",
       "...                                       ...  \n",
       "47012                                     0.0  \n",
       "47013                                     0.0  \n",
       "47014                                     0.0  \n",
       "47015                                     0.0  \n",
       "47016                                     0.0  \n",
       "\n",
       "[47017 rows x 45 columns]"
      ]
     },
     "execution_count": 11,
     "metadata": {},
     "output_type": "execute_result"
    }
   ],
   "source": [
    "pd.DataFrame(pd.DataFrame.sparse.from_spmatrix(categories_encoded, columns=col_names_transformed))"
   ]
  },
  {
   "cell_type": "code",
   "execution_count": null,
   "metadata": {},
   "outputs": [],
   "source": []
  },
  {
   "cell_type": "markdown",
   "metadata": {},
   "source": [
    "### Preprocessing pipeline (num+cat)"
   ]
  },
  {
   "cell_type": "code",
   "execution_count": 12,
   "metadata": {},
   "outputs": [],
   "source": [
    "preproc_pipeline = ColumnTransformer([\n",
    "    ('std_encoder_branch',std_scaler, num_cols),('categ_preproc', categ_encode_pipeline,categ_cols)\n",
    "])"
   ]
  },
  {
   "cell_type": "markdown",
   "metadata": {},
   "source": [
    "## Full pre-processing pipeline"
   ]
  },
  {
   "cell_type": "code",
   "execution_count": 13,
   "metadata": {},
   "outputs": [],
   "source": [
    "# full_preproc_pipeline = SparseColumnsDropper + intermediate_pipeline + StandardScaler\n",
    "from sklearn.preprocessing import StandardScaler\n",
    "from sklearn.pipeline import Pipeline\n",
    "\n",
    "full_preproc_pipeline = Pipeline([\n",
    "    (\"preproc_pipeline\", preproc_pipeline),\n",
    "    ('scaler', StandardScaler(with_mean=False))])"
   ]
  },
  {
   "cell_type": "code",
   "execution_count": 14,
   "metadata": {},
   "outputs": [],
   "source": [
    "#Preprocessing the data:\n",
    "X_train_prep = full_preproc_pipeline.fit_transform(X_train,y_train) #We write y_train because of RF_Selector we have to fit it, we're pipeline all the same time, not step by step"
   ]
  },
  {
   "cell_type": "code",
   "execution_count": 15,
   "metadata": {},
   "outputs": [],
   "source": [
    "X_test_prep = full_preproc_pipeline.transform(X_test)"
   ]
  },
  {
   "cell_type": "code",
   "execution_count": null,
   "metadata": {},
   "outputs": [],
   "source": []
  },
  {
   "cell_type": "markdown",
   "metadata": {},
   "source": [
    "## Initial exploration models"
   ]
  },
  {
   "cell_type": "code",
   "execution_count": 16,
   "metadata": {},
   "outputs": [],
   "source": [
    "import time\n",
    "# Import necessary features\n",
    "from sklearn.model_selection import GridSearchCV\n",
    "from sklearn.model_selection import cross_val_score\n",
    "from sklearn.model_selection import cross_validate\n",
    "\n",
    "# simple models\n",
    "from sklearn.linear_model import LogisticRegression\n",
    "from sklearn.linear_model import SGDClassifier\n",
    "from sklearn.neighbors import KNeighborsClassifier\n",
    "from sklearn.naive_bayes import GaussianNB\n",
    "from sklearn.tree import DecisionTreeClassifier\n",
    "\n",
    "\n",
    "# ensemble models\n",
    "from sklearn.ensemble import AdaBoostClassifier\n",
    "from sklearn.ensemble import BaggingClassifier\n",
    "from sklearn.ensemble import ExtraTreesClassifier\n",
    "from sklearn.ensemble import GradientBoostingClassifier\n",
    "from sklearn.ensemble import RandomForestClassifier"
   ]
  },
  {
   "cell_type": "code",
   "execution_count": 17,
   "metadata": {},
   "outputs": [],
   "source": [
    "\n",
    "# initialize all models\n",
    "logistic_regression = LogisticRegression()\n",
    "stoc_grad_desc = SGDClassifier()\n",
    "k_near_neigh = KNeighborsClassifier()\n",
    "naive_bayes = GaussianNB()\n",
    "decision_tree = DecisionTreeClassifier()\n",
    "ada_boost = AdaBoostClassifier()\n",
    "bagging = BaggingClassifier()\n",
    "extra_trees = ExtraTreesClassifier()\n",
    "gradient_boost = GradientBoostingClassifier()\n",
    "random_forest = RandomForestClassifier()\n",
    "\n",
    "models = [logistic_regression,stoc_grad_desc, k_near_neigh, naive_bayes,\n",
    "          decision_tree, ada_boost, bagging, extra_trees, gradient_boost, random_forest]\n",
    "names_models = ['Logistic Regression', 'Stochastic Gradient Descent', 'K-Nearest Neighbors', \n",
    "                'Naive-Bayes', 'Decision Tree', 'ADA Boost', 'Bagging Classifier', 'Extra Trees', 'Gradient Boost', \n",
    "                'Random Forest']"
   ]
  },
  {
   "cell_type": "code",
   "execution_count": 18,
   "metadata": {},
   "outputs": [
    {
     "name": "stderr",
     "output_type": "stream",
     "text": [
      "C:\\Users\\Espadas\\Anaconda3\\lib\\site-packages\\sklearn\\linear_model\\_logistic.py:764: ConvergenceWarning: lbfgs failed to converge (status=1):\n",
      "STOP: TOTAL NO. of ITERATIONS REACHED LIMIT.\n",
      "\n",
      "Increase the number of iterations (max_iter) or scale the data as shown in:\n",
      "    https://scikit-learn.org/stable/modules/preprocessing.html\n",
      "Please also refer to the documentation for alternative solver options:\n",
      "    https://scikit-learn.org/stable/modules/linear_model.html#logistic-regression\n",
      "  extra_warning_msg=_LOGISTIC_SOLVER_CONVERGENCE_MSG)\n",
      "C:\\Users\\Espadas\\Anaconda3\\lib\\site-packages\\sklearn\\metrics\\_classification.py:1221: UndefinedMetricWarning: Precision is ill-defined and being set to 0.0 in labels with no predicted samples. Use `zero_division` parameter to control this behavior.\n",
      "  _warn_prf(average, modifier, msg_start, len(result))\n",
      "C:\\Users\\Espadas\\Anaconda3\\lib\\site-packages\\sklearn\\linear_model\\_logistic.py:764: ConvergenceWarning: lbfgs failed to converge (status=1):\n",
      "STOP: TOTAL NO. of ITERATIONS REACHED LIMIT.\n",
      "\n",
      "Increase the number of iterations (max_iter) or scale the data as shown in:\n",
      "    https://scikit-learn.org/stable/modules/preprocessing.html\n",
      "Please also refer to the documentation for alternative solver options:\n",
      "    https://scikit-learn.org/stable/modules/linear_model.html#logistic-regression\n",
      "  extra_warning_msg=_LOGISTIC_SOLVER_CONVERGENCE_MSG)\n",
      "C:\\Users\\Espadas\\Anaconda3\\lib\\site-packages\\sklearn\\linear_model\\_logistic.py:764: ConvergenceWarning: lbfgs failed to converge (status=1):\n",
      "STOP: TOTAL NO. of ITERATIONS REACHED LIMIT.\n",
      "\n",
      "Increase the number of iterations (max_iter) or scale the data as shown in:\n",
      "    https://scikit-learn.org/stable/modules/preprocessing.html\n",
      "Please also refer to the documentation for alternative solver options:\n",
      "    https://scikit-learn.org/stable/modules/linear_model.html#logistic-regression\n",
      "  extra_warning_msg=_LOGISTIC_SOLVER_CONVERGENCE_MSG)\n",
      "C:\\Users\\Espadas\\Anaconda3\\lib\\site-packages\\sklearn\\metrics\\_classification.py:1221: UndefinedMetricWarning: Precision is ill-defined and being set to 0.0 in labels with no predicted samples. Use `zero_division` parameter to control this behavior.\n",
      "  _warn_prf(average, modifier, msg_start, len(result))\n",
      "C:\\Users\\Espadas\\Anaconda3\\lib\\site-packages\\sklearn\\linear_model\\_logistic.py:764: ConvergenceWarning: lbfgs failed to converge (status=1):\n",
      "STOP: TOTAL NO. of ITERATIONS REACHED LIMIT.\n",
      "\n",
      "Increase the number of iterations (max_iter) or scale the data as shown in:\n",
      "    https://scikit-learn.org/stable/modules/preprocessing.html\n",
      "Please also refer to the documentation for alternative solver options:\n",
      "    https://scikit-learn.org/stable/modules/linear_model.html#logistic-regression\n",
      "  extra_warning_msg=_LOGISTIC_SOLVER_CONVERGENCE_MSG)\n",
      "C:\\Users\\Espadas\\Anaconda3\\lib\\site-packages\\sklearn\\metrics\\_classification.py:1221: UndefinedMetricWarning: Precision is ill-defined and being set to 0.0 in labels with no predicted samples. Use `zero_division` parameter to control this behavior.\n",
      "  _warn_prf(average, modifier, msg_start, len(result))\n",
      "C:\\Users\\Espadas\\Anaconda3\\lib\\site-packages\\sklearn\\linear_model\\_logistic.py:764: ConvergenceWarning: lbfgs failed to converge (status=1):\n",
      "STOP: TOTAL NO. of ITERATIONS REACHED LIMIT.\n",
      "\n",
      "Increase the number of iterations (max_iter) or scale the data as shown in:\n",
      "    https://scikit-learn.org/stable/modules/preprocessing.html\n",
      "Please also refer to the documentation for alternative solver options:\n",
      "    https://scikit-learn.org/stable/modules/linear_model.html#logistic-regression\n",
      "  extra_warning_msg=_LOGISTIC_SOLVER_CONVERGENCE_MSG)\n",
      "C:\\Users\\Espadas\\Anaconda3\\lib\\site-packages\\sklearn\\metrics\\_classification.py:1221: UndefinedMetricWarning: Precision is ill-defined and being set to 0.0 in labels with no predicted samples. Use `zero_division` parameter to control this behavior.\n",
      "  _warn_prf(average, modifier, msg_start, len(result))\n",
      "C:\\Users\\Espadas\\Anaconda3\\lib\\site-packages\\sklearn\\metrics\\_classification.py:1221: UndefinedMetricWarning: Precision is ill-defined and being set to 0.0 in labels with no predicted samples. Use `zero_division` parameter to control this behavior.\n",
      "  _warn_prf(average, modifier, msg_start, len(result))\n",
      "C:\\Users\\Espadas\\Anaconda3\\lib\\site-packages\\sklearn\\metrics\\_classification.py:1221: UndefinedMetricWarning: Precision is ill-defined and being set to 0.0 in labels with no predicted samples. Use `zero_division` parameter to control this behavior.\n",
      "  _warn_prf(average, modifier, msg_start, len(result))\n",
      "C:\\Users\\Espadas\\Anaconda3\\lib\\site-packages\\sklearn\\metrics\\_classification.py:1221: UndefinedMetricWarning: Precision is ill-defined and being set to 0.0 in labels with no predicted samples. Use `zero_division` parameter to control this behavior.\n",
      "  _warn_prf(average, modifier, msg_start, len(result))\n",
      "C:\\Users\\Espadas\\Anaconda3\\lib\\site-packages\\sklearn\\metrics\\_classification.py:1221: UndefinedMetricWarning: Precision is ill-defined and being set to 0.0 in labels with no predicted samples. Use `zero_division` parameter to control this behavior.\n",
      "  _warn_prf(average, modifier, msg_start, len(result))\n",
      "C:\\Users\\Espadas\\Anaconda3\\lib\\site-packages\\sklearn\\metrics\\_classification.py:1221: UndefinedMetricWarning: Precision is ill-defined and being set to 0.0 in labels with no predicted samples. Use `zero_division` parameter to control this behavior.\n",
      "  _warn_prf(average, modifier, msg_start, len(result))\n",
      "C:\\Users\\Espadas\\Anaconda3\\lib\\site-packages\\sklearn\\model_selection\\_validation.py:552: FitFailedWarning: Estimator fit failed. The score on this train-test partition for these parameters will be set to nan. Details: \n",
      "Traceback (most recent call last):\n",
      "  File \"C:\\Users\\Espadas\\Anaconda3\\lib\\site-packages\\sklearn\\model_selection\\_validation.py\", line 531, in _fit_and_score\n",
      "    estimator.fit(X_train, y_train, **fit_params)\n",
      "  File \"C:\\Users\\Espadas\\Anaconda3\\lib\\site-packages\\sklearn\\naive_bayes.py\", line 210, in fit\n",
      "    X, y = self._validate_data(X, y)\n",
      "  File \"C:\\Users\\Espadas\\Anaconda3\\lib\\site-packages\\sklearn\\base.py\", line 432, in _validate_data\n",
      "    X, y = check_X_y(X, y, **check_params)\n",
      "  File \"C:\\Users\\Espadas\\Anaconda3\\lib\\site-packages\\sklearn\\utils\\validation.py\", line 72, in inner_f\n",
      "    return f(**kwargs)\n",
      "  File \"C:\\Users\\Espadas\\Anaconda3\\lib\\site-packages\\sklearn\\utils\\validation.py\", line 802, in check_X_y\n",
      "    estimator=estimator)\n",
      "  File \"C:\\Users\\Espadas\\Anaconda3\\lib\\site-packages\\sklearn\\utils\\validation.py\", line 72, in inner_f\n",
      "    return f(**kwargs)\n",
      "  File \"C:\\Users\\Espadas\\Anaconda3\\lib\\site-packages\\sklearn\\utils\\validation.py\", line 578, in check_array\n",
      "    accept_large_sparse=accept_large_sparse)\n",
      "  File \"C:\\Users\\Espadas\\Anaconda3\\lib\\site-packages\\sklearn\\utils\\validation.py\", line 353, in _ensure_sparse_format\n",
      "    raise TypeError('A sparse matrix was passed, but dense '\n",
      "TypeError: A sparse matrix was passed, but dense data is required. Use X.toarray() to convert to a dense numpy array.\n",
      "\n",
      "  FitFailedWarning)\n",
      "C:\\Users\\Espadas\\Anaconda3\\lib\\site-packages\\sklearn\\metrics\\_classification.py:1221: UndefinedMetricWarning: Precision is ill-defined and being set to 0.0 in labels with no predicted samples. Use `zero_division` parameter to control this behavior.\n",
      "  _warn_prf(average, modifier, msg_start, len(result))\n",
      "C:\\Users\\Espadas\\Anaconda3\\lib\\site-packages\\sklearn\\metrics\\_classification.py:1221: UndefinedMetricWarning: Precision is ill-defined and being set to 0.0 in labels with no predicted samples. Use `zero_division` parameter to control this behavior.\n",
      "  _warn_prf(average, modifier, msg_start, len(result))\n"
     ]
    }
   ],
   "source": [
    "# create an empty dataframe\n",
    "all_models_results = pd.DataFrame(columns = ['test_accuracy', 'test_precision_macro', 'test_recall_macro', \n",
    "                                             'test_f1_macro', 'test_roc_auc_ovo', 'model', 'time_to_train_sec'])\n",
    "\n",
    "# loop that cross_validates all above models for several metrics\n",
    "for name, model in zip(names_models, models):\n",
    "    start = time.time()\n",
    "    if name in ['Stochastic Gradient Descent']:\n",
    "         results = cross_validate(model, X_train_prep, y_train, scoring = ('accuracy', 'precision_macro', \n",
    "                                                     'recall_macro', 'f1_macro')) # SGD computes an error when calculating its AUC\n",
    "    else:\n",
    "        results = cross_validate(model, X_train_prep, y_train, scoring = ('accuracy', 'precision_macro', \n",
    "                                                     'recall_macro', 'f1_macro', 'roc_auc_ovo'))\n",
    "    for key in ['fit_time','score_time']:\n",
    "        del results[key]\n",
    "    for key in results.keys():\n",
    "        results[key] = results[key].mean()\n",
    "    results_model = pd.DataFrame(results, index = range(1))\n",
    "    results_model['model'] = name\n",
    "    elapsed_time = time.time()-start\n",
    "    results_model['time_to_train_sec'] = str(int(elapsed_time))\n",
    "    all_models_results = pd.concat([all_models_results, results_model], ignore_index=True)\n",
    "    "
   ]
  },
  {
   "cell_type": "code",
   "execution_count": 19,
   "metadata": {},
   "outputs": [
    {
     "data": {
      "text/html": [
       "<div>\n",
       "<style scoped>\n",
       "    .dataframe tbody tr th:only-of-type {\n",
       "        vertical-align: middle;\n",
       "    }\n",
       "\n",
       "    .dataframe tbody tr th {\n",
       "        vertical-align: top;\n",
       "    }\n",
       "\n",
       "    .dataframe thead th {\n",
       "        text-align: right;\n",
       "    }\n",
       "</style>\n",
       "<table border=\"1\" class=\"dataframe\">\n",
       "  <thead>\n",
       "    <tr style=\"text-align: right;\">\n",
       "      <th></th>\n",
       "      <th>model</th>\n",
       "      <th>test_accuracy</th>\n",
       "      <th>test_precision_macro</th>\n",
       "      <th>test_recall_macro</th>\n",
       "      <th>test_f1_macro</th>\n",
       "      <th>test_roc_auc_ovo</th>\n",
       "    </tr>\n",
       "  </thead>\n",
       "  <tbody>\n",
       "    <tr>\n",
       "      <th>0</th>\n",
       "      <td>Decision Tree</td>\n",
       "      <td>0.473827</td>\n",
       "      <td>0.269204</td>\n",
       "      <td>0.231672</td>\n",
       "      <td>0.234305</td>\n",
       "      <td>0.557733</td>\n",
       "    </tr>\n",
       "    <tr>\n",
       "      <th>1</th>\n",
       "      <td>Bagging Classifier</td>\n",
       "      <td>0.471937</td>\n",
       "      <td>0.271215</td>\n",
       "      <td>0.227763</td>\n",
       "      <td>0.231237</td>\n",
       "      <td>0.585910</td>\n",
       "    </tr>\n",
       "    <tr>\n",
       "      <th>2</th>\n",
       "      <td>Extra Trees</td>\n",
       "      <td>0.478530</td>\n",
       "      <td>0.274253</td>\n",
       "      <td>0.228559</td>\n",
       "      <td>0.231232</td>\n",
       "      <td>0.586707</td>\n",
       "    </tr>\n",
       "    <tr>\n",
       "      <th>3</th>\n",
       "      <td>Random Forest</td>\n",
       "      <td>0.473331</td>\n",
       "      <td>0.256377</td>\n",
       "      <td>0.224769</td>\n",
       "      <td>0.226093</td>\n",
       "      <td>0.607125</td>\n",
       "    </tr>\n",
       "    <tr>\n",
       "      <th>4</th>\n",
       "      <td>K-Nearest Neighbors</td>\n",
       "      <td>0.470377</td>\n",
       "      <td>0.264826</td>\n",
       "      <td>0.216363</td>\n",
       "      <td>0.214900</td>\n",
       "      <td>0.582752</td>\n",
       "    </tr>\n",
       "    <tr>\n",
       "      <th>5</th>\n",
       "      <td>Gradient Boost</td>\n",
       "      <td>0.517760</td>\n",
       "      <td>0.477850</td>\n",
       "      <td>0.224129</td>\n",
       "      <td>0.201125</td>\n",
       "      <td>0.683083</td>\n",
       "    </tr>\n",
       "    <tr>\n",
       "      <th>6</th>\n",
       "      <td>Stochastic Gradient Descent</td>\n",
       "      <td>0.485029</td>\n",
       "      <td>0.240566</td>\n",
       "      <td>0.208135</td>\n",
       "      <td>0.190371</td>\n",
       "      <td>NaN</td>\n",
       "    </tr>\n",
       "    <tr>\n",
       "      <th>7</th>\n",
       "      <td>Logistic Regression</td>\n",
       "      <td>0.516058</td>\n",
       "      <td>0.300415</td>\n",
       "      <td>0.209485</td>\n",
       "      <td>0.178295</td>\n",
       "      <td>0.659992</td>\n",
       "    </tr>\n",
       "    <tr>\n",
       "      <th>8</th>\n",
       "      <td>ADA Boost</td>\n",
       "      <td>0.505447</td>\n",
       "      <td>0.290497</td>\n",
       "      <td>0.213001</td>\n",
       "      <td>0.176037</td>\n",
       "      <td>0.629449</td>\n",
       "    </tr>\n",
       "    <tr>\n",
       "      <th>9</th>\n",
       "      <td>Naive-Bayes</td>\n",
       "      <td>NaN</td>\n",
       "      <td>NaN</td>\n",
       "      <td>NaN</td>\n",
       "      <td>NaN</td>\n",
       "      <td>NaN</td>\n",
       "    </tr>\n",
       "  </tbody>\n",
       "</table>\n",
       "</div>"
      ],
      "text/plain": [
       "                         model  test_accuracy  test_precision_macro  \\\n",
       "0                Decision Tree       0.473827              0.269204   \n",
       "1           Bagging Classifier       0.471937              0.271215   \n",
       "2                  Extra Trees       0.478530              0.274253   \n",
       "3                Random Forest       0.473331              0.256377   \n",
       "4          K-Nearest Neighbors       0.470377              0.264826   \n",
       "5               Gradient Boost       0.517760              0.477850   \n",
       "6  Stochastic Gradient Descent       0.485029              0.240566   \n",
       "7          Logistic Regression       0.516058              0.300415   \n",
       "8                    ADA Boost       0.505447              0.290497   \n",
       "9                  Naive-Bayes            NaN                   NaN   \n",
       "\n",
       "   test_recall_macro  test_f1_macro  test_roc_auc_ovo  \n",
       "0           0.231672       0.234305          0.557733  \n",
       "1           0.227763       0.231237          0.585910  \n",
       "2           0.228559       0.231232          0.586707  \n",
       "3           0.224769       0.226093          0.607125  \n",
       "4           0.216363       0.214900          0.582752  \n",
       "5           0.224129       0.201125          0.683083  \n",
       "6           0.208135       0.190371               NaN  \n",
       "7           0.209485       0.178295          0.659992  \n",
       "8           0.213001       0.176037          0.629449  \n",
       "9                NaN            NaN               NaN  "
      ]
     },
     "execution_count": 19,
     "metadata": {},
     "output_type": "execute_result"
    }
   ],
   "source": [
    "all_models_results = all_models_results.sort_values('test_f1_macro', ascending=False)\n",
    "all_models_results = all_models_results[['model', 'test_accuracy', 'test_precision_macro', 'test_recall_macro',\n",
    "       'test_f1_macro', 'test_roc_auc_ovo']]\n",
    "all_models_results = all_models_results.reset_index(drop=True)\n",
    "all_models_results"
   ]
  },
  {
   "cell_type": "code",
   "execution_count": null,
   "metadata": {},
   "outputs": [],
   "source": []
  },
  {
   "cell_type": "markdown",
   "metadata": {},
   "source": [
    "### Random Forest"
   ]
  },
  {
   "cell_type": "code",
   "execution_count": 24,
   "metadata": {},
   "outputs": [],
   "source": [
    "from sklearn.model_selection import StratifiedKFold\n",
    "from sklearn.model_selection import RandomizedSearchCV"
   ]
  },
  {
   "cell_type": "code",
   "execution_count": 31,
   "metadata": {},
   "outputs": [
    {
     "data": {
      "text/plain": [
       "RandomizedSearchCV(cv=StratifiedKFold(n_splits=5, random_state=None, shuffle=False),\n",
       "                   estimator=RandomForestClassifier(), n_jobs=-1,\n",
       "                   param_distributions={'max_depth': [5, 10, 25, 50],\n",
       "                                        'n_estimators': [10, 50, 100, 200]},\n",
       "                   random_state=123, scoring='f1_macro')"
      ]
     },
     "execution_count": 31,
     "metadata": {},
     "output_type": "execute_result"
    }
   ],
   "source": [
    "#specify the parameters to be tested\n",
    "n_est = [10, 50, 100, 200]\n",
    "max_depth_opt = [5, 10, 25, 50]\n",
    "param_grid = dict(n_estimators = n_est, max_depth=max_depth_opt)\n",
    "\n",
    "rf_search = RandomizedSearchCV(random_forest,\n",
    "                                   param_grid,\n",
    "                                   scoring=\"f1_macro\",\n",
    "                                   cv = StratifiedKFold(),\n",
    "                                   n_jobs=-1)\n",
    "rf_search"
   ]
  },
  {
   "cell_type": "code",
   "execution_count": 21,
   "metadata": {},
   "outputs": [
    {
     "name": "stdout",
     "output_type": "stream",
     "text": [
      "Finished iterating in: 227 seconds\n",
      "0.22750561168774874 {'max_depth': 50, 'n_estimators': 10}\n"
     ]
    }
   ],
   "source": [
    "\n",
    "from sklearn.model_selection import StratifiedKFold\n",
    "\n",
    "#perform the GridSearchCV\n",
    "start = time.time()\n",
    "rd_grid = GridSearchCV(cv=StratifiedKFold(n_splits=5, random_state=None, shuffle=False),\n",
    "                   estimator=RandomForestClassifier(), n_jobs=-1,\n",
    "                   param_grid={'max_depth': [5, 10, 25, 50],\n",
    "                                        'n_estimators': [10, 50, 100, 200]},\n",
    "                    scoring='f1_macro').fit(X_train_prep, y_train)\n",
    "elapsed_time = time.time()-start\n",
    "print(\"Finished iterating in: {} seconds\".format(str(int(elapsed_time))))\n",
    "print(rd_grid.best_score_, rd_grid.best_params_)"
   ]
  },
  {
   "cell_type": "code",
   "execution_count": 22,
   "metadata": {},
   "outputs": [],
   "source": [
    "bestRF = RandomForestClassifier(max_depth= 25, n_estimators= 50)"
   ]
  },
  {
   "cell_type": "code",
   "execution_count": 23,
   "metadata": {},
   "outputs": [
    {
     "data": {
      "text/plain": [
       "RandomForestClassifier(max_depth=25, n_estimators=50)"
      ]
     },
     "execution_count": 23,
     "metadata": {},
     "output_type": "execute_result"
    }
   ],
   "source": [
    "bestRF.fit(X_train_prep, y_train)"
   ]
  },
  {
   "cell_type": "code",
   "execution_count": 24,
   "metadata": {},
   "outputs": [],
   "source": [
    "predictions_RF = bestRF.predict(X_test_prep)"
   ]
  },
  {
   "cell_type": "code",
   "execution_count": 31,
   "metadata": {},
   "outputs": [
    {
     "data": {
      "text/plain": [
       "array([[1661,  163,   15,  235,    6,    0],\n",
       "       [ 700,  125,   19,   87,    4,    1],\n",
       "       [ 102,   22,    3,   12,    1,    0],\n",
       "       [ 862,   53,    6,  527,    3,    1],\n",
       "       [  69,    2,    0,   14,    0,    1],\n",
       "       [   5,    2,    0,    1,    0,    0]], dtype=int64)"
      ]
     },
     "execution_count": 31,
     "metadata": {},
     "output_type": "execute_result"
    }
   ],
   "source": [
    "from sklearn.metrics import confusion_matrix\n",
    "cm = confusion_matrix(y_test, predictions_RF)\n",
    "cm\n"
   ]
  },
  {
   "cell_type": "code",
   "execution_count": 32,
   "metadata": {},
   "outputs": [
    {
     "data": {
      "text/plain": [
       "<sklearn.metrics._plot.confusion_matrix.ConfusionMatrixDisplay at 0x13c6898d488>"
      ]
     },
     "execution_count": 32,
     "metadata": {},
     "output_type": "execute_result"
    },
    {
     "data": {
      "image/png": "[encoded data removed]",
      "text/plain": [
       "<Figure size 432x288 with 2 Axes>"
      ]
     },
     "metadata": {
      "needs_background": "light"
     },
     "output_type": "display_data"
    }
   ],
   "source": [
    "from sklearn.metrics import plot_confusion_matrix\n",
    "plot_confusion_matrix(bestRF, X_train_prep, y_train)"
   ]
  },
  {
   "cell_type": "markdown",
   "metadata": {},
   "source": [
    "### Logistic Regression"
   ]
  },
  {
   "cell_type": "code",
   "execution_count": null,
   "metadata": {},
   "outputs": [],
   "source": [
    "#specify the parameters to be tested\n",
    "penalty = ['l1', 'l2', 'elasticnet', 'None']\n",
    "class_weight=['balanced','None']\n",
    "max_iter= [400]\n",
    "random_state = [42]\n",
    "multi_class=['auto', 'ovr','multinomial']\n",
    "param_grid = dict(penalty=penalty, class_weight=class_weight, max_iter=max_iter,random_state=random_state,multi_class=multi_class)\n",
    "\n",
    "\n",
    "#perform the GridSearchCV\n",
    "start = time.time()\n",
    "lr_grid = GridSearchCV(logistic_regression, param_grid, cv = 10, scoring='f1_macro', n_jobs=-1).fit(X_train_prep, y_train)\n",
    "elapsed_time = time.time()-start\n",
    "print(\"Finished iterating in: {} seconds\".format(str(int(elapsed_time))))\n",
    "print(lr_grid.best_score_, lr_grid.best_params_)"
   ]
  },
  {
   "cell_type": "code",
   "execution_count": null,
   "metadata": {},
   "outputs": [],
   "source": [
    "bestlr = LogisticRegression(class_weight= 'None', max_iter= 400, multi_class= 'ovr', penalty= 'l2', random_state= 42)"
   ]
  },
  {
   "cell_type": "code",
   "execution_count": null,
   "metadata": {},
   "outputs": [],
   "source": [
    "bestlr.fit(X_train_prep, y_train)"
   ]
  },
  {
   "cell_type": "code",
   "execution_count": null,
   "metadata": {},
   "outputs": [],
   "source": [
    "predictions_lr = bestlr.predict(X_test_prep)"
   ]
  },
  {
   "cell_type": "code",
   "execution_count": null,
   "metadata": {},
   "outputs": [],
   "source": [
    "print(\"Accuracy:\",accuracy_score(y_test, predictions_lr))"
   ]
  },
  {
   "cell_type": "code",
   "execution_count": null,
   "metadata": {},
   "outputs": [],
   "source": [
    "from sklearn.metrics import recall_score"
   ]
  },
  {
   "cell_type": "code",
   "execution_count": null,
   "metadata": {},
   "outputs": [],
   "source": [
    "recall = recall_score(y_test, predictions_lr, average=\"macro\")"
   ]
  },
  {
   "cell_type": "code",
   "execution_count": null,
   "metadata": {},
   "outputs": [],
   "source": [
    "recall"
   ]
  },
  {
   "cell_type": "code",
   "execution_count": null,
   "metadata": {},
   "outputs": [],
   "source": [
    "from sklearn.metrics import confusion_matrix"
   ]
  },
  {
   "cell_type": "code",
   "execution_count": null,
   "metadata": {},
   "outputs": [],
   "source": [
    "cm = confusion_matrix(y_test, predictions_lr)\n",
    "cm"
   ]
  },
  {
   "cell_type": "code",
   "execution_count": null,
   "metadata": {},
   "outputs": [],
   "source": []
  }
 ],
 "metadata": {
  "kernelspec": {
   "display_name": "Python 3",
   "language": "python",
   "name": "python3"
  },
  "language_info": {
   "codemirror_mode": {
    "name": "ipython",
    "version": 3
   },
   "file_extension": ".py",
   "mimetype": "text/x-python",
   "name": "python",
   "nbconvert_exporter": "python",
   "pygments_lexer": "ipython3",
   "version": "3.7.7"
  }
 },
 "nbformat": 4,
 "nbformat_minor": 4
}
