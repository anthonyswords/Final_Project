{
 "cells": [
  {
   "cell_type": "code",
   "execution_count": 1,
   "metadata": {},
   "outputs": [],
   "source": [
    "import pandas as pd\n",
    "import numpy as np\n",
    "import matplotlib.pyplot as plt\n",
    "import seaborn as sns\n",
    "\n",
    "# Set the graphs as interactive.\n",
    "%matplotlib inline"
   ]
  },
  {
   "cell_type": "markdown",
   "metadata": {},
   "source": [
    "## Importing Dataset"
   ]
  },
  {
   "cell_type": "code",
   "execution_count": 2,
   "metadata": {},
   "outputs": [],
   "source": [
    "accidents_2019 = pd.read_csv('../data/2019_accidents_causes_gu_bcn_.csv')\n",
    "accidents_2018 = pd.read_csv('../data/2018_accidents_causes_gu_bcn_.csv')\n",
    "accidents_2017 = pd.read_csv('../data/2017_accidents_causes_gu_bcn_.csv')\n",
    "accidents_2016 = pd.read_csv('../data/2016_accidents_causes_gu_bcn_.csv')\n"
   ]
  },
  {
   "cell_type": "code",
   "execution_count": 3,
   "metadata": {},
   "outputs": [],
   "source": [
    "accidents = pd.concat([accidents_2019, accidents_2017,accidents_2018,accidents_2016], axis = 0)"
   ]
  },
  {
   "cell_type": "code",
   "execution_count": 4,
   "metadata": {},
   "outputs": [
    {
     "data": {
      "text/plain": [
       "Index(['Numero_expedient', 'Codi_districte', 'Nom_districte', 'Codi_barri',\n",
       "       'Nom_barri', 'Codi_carrer', 'Nom_carrer', 'Num_postal ',\n",
       "       'Descripcio_dia_setmana', 'Dia_setmana', 'Descripcio_tipus_dia',\n",
       "       'NK_Any', 'Mes_any', 'Nom_mes', 'Dia_mes', 'Hora_dia',\n",
       "       'Descripcio_torn', 'Descripcio_causa_mediata', 'Coordenada_UTM_X',\n",
       "       'Coordenada_UTM_Y', 'Longitud', 'Latitud', 'Número_d'expedient',\n",
       "       'Descripció_dia_setmana', 'Descripció_tipus_dia', 'NK Any',\n",
       "       'Mes_de_any', 'Dia_de_mes', 'Hora_de_dia', 'Descripció_torn',\n",
       "       'Descripció_causa_mediata', 'Coordenada_UTM_(X)', 'Coordenada_UTM_(Y)',\n",
       "       'Any', 'Num_postal'],\n",
       "      dtype='object')"
      ]
     },
     "execution_count": 4,
     "metadata": {},
     "output_type": "execute_result"
    }
   ],
   "source": [
    "accidents.columns"
   ]
  },
  {
   "cell_type": "code",
   "execution_count": 5,
   "metadata": {},
   "outputs": [
    {
     "data": {
      "text/html": [
       "<div>\n",
       "<style scoped>\n",
       "    .dataframe tbody tr th:only-of-type {\n",
       "        vertical-align: middle;\n",
       "    }\n",
       "\n",
       "    .dataframe tbody tr th {\n",
       "        vertical-align: top;\n",
       "    }\n",
       "\n",
       "    .dataframe thead th {\n",
       "        text-align: right;\n",
       "    }\n",
       "</style>\n",
       "<table border=\"1\" class=\"dataframe\">\n",
       "  <thead>\n",
       "    <tr style=\"text-align: right;\">\n",
       "      <th></th>\n",
       "      <th>Numero_expedient</th>\n",
       "      <th>Codi_districte</th>\n",
       "      <th>Nom_districte</th>\n",
       "      <th>Codi_barri</th>\n",
       "      <th>Nom_barri</th>\n",
       "      <th>Codi_carrer</th>\n",
       "      <th>Nom_carrer</th>\n",
       "      <th>Num_postal</th>\n",
       "      <th>Descripcio_dia_setmana</th>\n",
       "      <th>Dia_setmana</th>\n",
       "      <th>...</th>\n",
       "      <th>NK Any</th>\n",
       "      <th>Mes_de_any</th>\n",
       "      <th>Dia_de_mes</th>\n",
       "      <th>Hora_de_dia</th>\n",
       "      <th>Descripció_torn</th>\n",
       "      <th>Descripció_causa_mediata</th>\n",
       "      <th>Coordenada_UTM_(X)</th>\n",
       "      <th>Coordenada_UTM_(Y)</th>\n",
       "      <th>Any</th>\n",
       "      <th>Num_postal</th>\n",
       "    </tr>\n",
       "  </thead>\n",
       "  <tbody>\n",
       "    <tr>\n",
       "      <th>0</th>\n",
       "      <td>2019S001972</td>\n",
       "      <td>-1</td>\n",
       "      <td>Desconegut</td>\n",
       "      <td>-1</td>\n",
       "      <td>Desconegut</td>\n",
       "      <td>-1</td>\n",
       "      <td>Desconegut</td>\n",
       "      <td>Desconegut</td>\n",
       "      <td>Dimecres</td>\n",
       "      <td>Dc</td>\n",
       "      <td>...</td>\n",
       "      <td>NaN</td>\n",
       "      <td>NaN</td>\n",
       "      <td>NaN</td>\n",
       "      <td>NaN</td>\n",
       "      <td>NaN</td>\n",
       "      <td>NaN</td>\n",
       "      <td>NaN</td>\n",
       "      <td>NaN</td>\n",
       "      <td>NaN</td>\n",
       "      <td>NaN</td>\n",
       "    </tr>\n",
       "    <tr>\n",
       "      <th>1</th>\n",
       "      <td>2019S002789</td>\n",
       "      <td>-1</td>\n",
       "      <td>Desconegut</td>\n",
       "      <td>-1</td>\n",
       "      <td>Desconegut</td>\n",
       "      <td>-1</td>\n",
       "      <td>Desconegut</td>\n",
       "      <td>Desconegut</td>\n",
       "      <td>Dimarts</td>\n",
       "      <td>Dm</td>\n",
       "      <td>...</td>\n",
       "      <td>NaN</td>\n",
       "      <td>NaN</td>\n",
       "      <td>NaN</td>\n",
       "      <td>NaN</td>\n",
       "      <td>NaN</td>\n",
       "      <td>NaN</td>\n",
       "      <td>NaN</td>\n",
       "      <td>NaN</td>\n",
       "      <td>NaN</td>\n",
       "      <td>NaN</td>\n",
       "    </tr>\n",
       "    <tr>\n",
       "      <th>2</th>\n",
       "      <td>2019S008204</td>\n",
       "      <td>-1</td>\n",
       "      <td>Desconegut</td>\n",
       "      <td>-1</td>\n",
       "      <td>Desconegut</td>\n",
       "      <td>-1</td>\n",
       "      <td>Desconegut</td>\n",
       "      <td>Desconegut</td>\n",
       "      <td>Dimecres</td>\n",
       "      <td>Dc</td>\n",
       "      <td>...</td>\n",
       "      <td>NaN</td>\n",
       "      <td>NaN</td>\n",
       "      <td>NaN</td>\n",
       "      <td>NaN</td>\n",
       "      <td>NaN</td>\n",
       "      <td>NaN</td>\n",
       "      <td>NaN</td>\n",
       "      <td>NaN</td>\n",
       "      <td>NaN</td>\n",
       "      <td>NaN</td>\n",
       "    </tr>\n",
       "    <tr>\n",
       "      <th>3</th>\n",
       "      <td>2019S009935</td>\n",
       "      <td>-1</td>\n",
       "      <td>Desconegut</td>\n",
       "      <td>-1</td>\n",
       "      <td>Desconegut</td>\n",
       "      <td>-1</td>\n",
       "      <td>Desconegut</td>\n",
       "      <td>Desconegut</td>\n",
       "      <td>Dimarts</td>\n",
       "      <td>Dm</td>\n",
       "      <td>...</td>\n",
       "      <td>NaN</td>\n",
       "      <td>NaN</td>\n",
       "      <td>NaN</td>\n",
       "      <td>NaN</td>\n",
       "      <td>NaN</td>\n",
       "      <td>NaN</td>\n",
       "      <td>NaN</td>\n",
       "      <td>NaN</td>\n",
       "      <td>NaN</td>\n",
       "      <td>NaN</td>\n",
       "    </tr>\n",
       "    <tr>\n",
       "      <th>4</th>\n",
       "      <td>2019S006753</td>\n",
       "      <td>10</td>\n",
       "      <td>Sant Martí</td>\n",
       "      <td>64</td>\n",
       "      <td>el Camp de l'Arpa del Clot</td>\n",
       "      <td>209900</td>\n",
       "      <td>Meridiana</td>\n",
       "      <td>0163 0163</td>\n",
       "      <td>Dissabte</td>\n",
       "      <td>Ds</td>\n",
       "      <td>...</td>\n",
       "      <td>NaN</td>\n",
       "      <td>NaN</td>\n",
       "      <td>NaN</td>\n",
       "      <td>NaN</td>\n",
       "      <td>NaN</td>\n",
       "      <td>NaN</td>\n",
       "      <td>NaN</td>\n",
       "      <td>NaN</td>\n",
       "      <td>NaN</td>\n",
       "      <td>NaN</td>\n",
       "    </tr>\n",
       "  </tbody>\n",
       "</table>\n",
       "<p>5 rows × 35 columns</p>\n",
       "</div>"
      ],
      "text/plain": [
       "  Numero_expedient  Codi_districte Nom_districte  Codi_barri  \\\n",
       "0  2019S001972                  -1    Desconegut          -1   \n",
       "1  2019S002789                  -1    Desconegut          -1   \n",
       "2  2019S008204                  -1    Desconegut          -1   \n",
       "3  2019S009935                  -1    Desconegut          -1   \n",
       "4  2019S006753                  10    Sant Martí          64   \n",
       "\n",
       "                    Nom_barri  Codi_carrer  Nom_carrer Num_postal   \\\n",
       "0                  Desconegut           -1  Desconegut  Desconegut   \n",
       "1                  Desconegut           -1  Desconegut  Desconegut   \n",
       "2                  Desconegut           -1  Desconegut  Desconegut   \n",
       "3                  Desconegut           -1  Desconegut  Desconegut   \n",
       "4  el Camp de l'Arpa del Clot       209900   Meridiana   0163 0163   \n",
       "\n",
       "  Descripcio_dia_setmana Dia_setmana  ... NK Any  Mes_de_any  Dia_de_mes  \\\n",
       "0               Dimecres          Dc  ...    NaN         NaN         NaN   \n",
       "1                Dimarts          Dm  ...    NaN         NaN         NaN   \n",
       "2               Dimecres          Dc  ...    NaN         NaN         NaN   \n",
       "3                Dimarts          Dm  ...    NaN         NaN         NaN   \n",
       "4               Dissabte          Ds  ...    NaN         NaN         NaN   \n",
       "\n",
       "  Hora_de_dia  Descripció_torn  Descripció_causa_mediata Coordenada_UTM_(X)  \\\n",
       "0         NaN              NaN                       NaN                NaN   \n",
       "1         NaN              NaN                       NaN                NaN   \n",
       "2         NaN              NaN                       NaN                NaN   \n",
       "3         NaN              NaN                       NaN                NaN   \n",
       "4         NaN              NaN                       NaN                NaN   \n",
       "\n",
       "  Coordenada_UTM_(Y) Any Num_postal  \n",
       "0                NaN NaN        NaN  \n",
       "1                NaN NaN        NaN  \n",
       "2                NaN NaN        NaN  \n",
       "3                NaN NaN        NaN  \n",
       "4                NaN NaN        NaN  \n",
       "\n",
       "[5 rows x 35 columns]"
      ]
     },
     "execution_count": 5,
     "metadata": {},
     "output_type": "execute_result"
    }
   ],
   "source": [
    "accidents.head()"
   ]
  },
  {
   "cell_type": "markdown",
   "metadata": {},
   "source": [
    "## Dropping useless columns and NaN"
   ]
  },
  {
   "cell_type": "code",
   "execution_count": 6,
   "metadata": {},
   "outputs": [
    {
     "data": {
      "text/plain": [
       "Numero_expedient            10343\n",
       "Codi_districte                  0\n",
       "Nom_districte                   0\n",
       "Codi_barri                      0\n",
       "Nom_barri                       0\n",
       "Codi_carrer                     0\n",
       "Nom_carrer                      0\n",
       "Num_postal                  14951\n",
       "Descripcio_dia_setmana      10343\n",
       "Dia_setmana                     0\n",
       "Descripcio_tipus_dia        10343\n",
       "NK_Any                      30426\n",
       "Mes_any                     10343\n",
       "Nom_mes                         0\n",
       "Dia_mes                     10343\n",
       "Hora_dia                    10343\n",
       "Descripcio_torn             10343\n",
       "Descripcio_causa_mediata    10343\n",
       "Coordenada_UTM_X            10343\n",
       "Coordenada_UTM_Y            10343\n",
       "Longitud                        0\n",
       "Latitud                         0\n",
       "Número_d'expedient          30111\n",
       "Descripció_dia_setmana      30111\n",
       "Descripció_tipus_dia        30111\n",
       "NK Any                      30111\n",
       "Mes_de_any                  30111\n",
       "Dia_de_mes                  30111\n",
       "Hora_de_dia                 30111\n",
       "Descripció_torn             30111\n",
       "Descripció_causa_mediata    30111\n",
       "Coordenada_UTM_(X)          30111\n",
       "Coordenada_UTM_(Y)          30111\n",
       "Any                         20371\n",
       "Num_postal                  30301\n",
       "dtype: int64"
      ]
     },
     "execution_count": 6,
     "metadata": {},
     "output_type": "execute_result"
    }
   ],
   "source": [
    "accidents.isnull().sum()"
   ]
  },
  {
   "cell_type": "code",
   "execution_count": 14,
   "metadata": {},
   "outputs": [
    {
     "data": {
      "text/plain": [
       "<matplotlib.axes._subplots.AxesSubplot at 0x19c0e37e808>"
      ]
     },
     "execution_count": 14,
     "metadata": {},
     "output_type": "execute_result"
    },
    {
     "data": {
      "image/png": "[encoded data removed]",
      "text/plain": [
       "<Figure size 1440x1080 with 1 Axes>"
      ]
     },
     "metadata": {
      "needs_background": "light"
     },
     "output_type": "display_data"
    }
   ],
   "source": [
    "plt.figure(figsize=(20,15))\n",
    "sns.heatmap(accidents.isnull(), cbar = False, cmap = 'viridis')"
   ]
  },
  {
   "cell_type": "code",
   "execution_count": 16,
   "metadata": {},
   "outputs": [],
   "source": [
    "# In proportion of the dataset, the missing values are a logical explanation.\n",
    "#1. Columns Numero_Expedient + 'Numero_expedient' need to be concated, they're splittes by 2019 year csv due to variable name \n",
    "#2. We only need the Expedient accident number as ID to concatenate in the future and the important featuresthat i will choose in the next cell"
   ]
  },
  {
   "cell_type": "code",
   "execution_count": 8,
   "metadata": {},
   "outputs": [],
   "source": [
    "accidents = pd.DataFrame(data=accidents, columns=['Descripció_causa_mediata','Descripcio_causa_mediata',\"Número_d'expedient\",'Numero_expedient'])\n",
    "#Please, come back to run"
   ]
  },
  {
   "cell_type": "code",
   "execution_count": 10,
   "metadata": {},
   "outputs": [],
   "source": [
    "accidents['Numero_expedient'] = accidents['Numero_expedient'].fillna(accidents[\"Número_d'expedient\"]) \n",
    "accidents['Descripcio_causa_mediata'] = accidents['Descripcio_causa_mediata'].fillna(accidents[\"Descripció_causa_mediata\"])"
   ]
  },
  {
   "cell_type": "code",
   "execution_count": 11,
   "metadata": {},
   "outputs": [],
   "source": [
    "accidents.drop(columns = [\"Número_d'expedient\",\"Descripció_causa_mediata\"],axis=1,inplace=True) #we eliminate this column because we have all distirbuted in column 'Any' as we did in the before cells. Codi_barri is a column irrelevant for us."
   ]
  },
  {
   "cell_type": "code",
   "execution_count": 13,
   "metadata": {},
   "outputs": [
    {
     "data": {
      "text/plain": [
       "No hi ha causa mediata             38103\n",
       "Alcoholèmia                         1650\n",
       "Calçada en mal estat                 293\n",
       "Excés de velocitat o inadequada      251\n",
       "Drogues o medicaments                 94\n",
       "Objectes o animals a la calçada       32\n",
       "Factors meteorològics                 19\n",
       "Estat de la senyalització             12\n",
       "Name: Descripcio_causa_mediata, dtype: int64"
      ]
     },
     "execution_count": 13,
     "metadata": {},
     "output_type": "execute_result"
    }
   ],
   "source": [
    "accidents.Descripcio_causa_mediata.value_counts()"
   ]
  },
  {
   "cell_type": "code",
   "execution_count": 15,
   "metadata": {},
   "outputs": [],
   "source": [
    "accidents.to_csv('../data/accidents_bcn_causa_cleaned.csv', index=False)"
   ]
  },
  {
   "cell_type": "code",
   "execution_count": null,
   "metadata": {},
   "outputs": [],
   "source": []
  }
 ],
 "metadata": {
  "kernelspec": {
   "display_name": "Python 3",
   "language": "python",
   "name": "python3"
  },
  "language_info": {
   "codemirror_mode": {
    "name": "ipython",
    "version": 3
   },
   "file_extension": ".py",
   "mimetype": "text/x-python",
   "name": "python",
   "nbconvert_exporter": "python",
   "pygments_lexer": "ipython3",
   "version": "3.7.7"
  }
 },
 "nbformat": 4,
 "nbformat_minor": 4
}
